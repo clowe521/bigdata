{
 "cells": [
  {
   "cell_type": "code",
   "execution_count": 1,
   "metadata": {},
   "outputs": [
    {
     "data": {
      "text/html": [
       "\n",
       "            <div>\n",
       "                <p><b>SparkSession - hive</b></p>\n",
       "                \n",
       "        <div>\n",
       "            <p><b>SparkContext</b></p>\n",
       "\n",
       "            <p><a href=\"http://md01.rcc.local:4057\">Spark UI</a></p>\n",
       "\n",
       "            <dl>\n",
       "              <dt>Version</dt>\n",
       "                <dd><code>v2.4.0-cdh6.3.0</code></dd>\n",
       "              <dt>Master</dt>\n",
       "                <dd><code>yarn</code></dd>\n",
       "              <dt>AppName</dt>\n",
       "                <dd><code>pyspark-shell</code></dd>\n",
       "            </dl>\n",
       "        </div>\n",
       "        \n",
       "            </div>\n",
       "        "
      ],
      "text/plain": [
       "<pyspark.sql.session.SparkSession at 0x7f52ae7223c8>"
      ]
     },
     "execution_count": 1,
     "metadata": {},
     "output_type": "execute_result"
    }
   ],
   "source": [
    "spark"
   ]
  },
  {
   "cell_type": "code",
   "execution_count": 25,
   "metadata": {},
   "outputs": [],
   "source": [
    "#import statements\n",
    "from pyspark.sql import SparkSession\n",
    "import pandas as pd\n",
    "from pyspark.sql.functions import *\n",
    "from datetime import datetime"
   ]
  },
  {
   "cell_type": "code",
   "execution_count": 26,
   "metadata": {},
   "outputs": [],
   "source": [
    "spark = SparkSession.builder.appName('Final_project').getOrCreate()\n",
    "sc = spark.sparkContext"
   ]
  },
  {
   "cell_type": "code",
   "execution_count": 27,
   "metadata": {},
   "outputs": [],
   "source": [
    "#Datapath\n",
    "path_comments = \"/user/rroongseang/bigdata/comments/\"\n",
    "path_users = \"/user/rroongseang/bigdata/users/\""
   ]
  },
  {
   "cell_type": "code",
   "execution_count": 28,
   "metadata": {},
   "outputs": [],
   "source": [
    "#Read data\n",
    "df = spark.read.json(path_comments+\"politics_json*\")\n",
    "users = spark.read.csv(path_users+\"RA.2019-09.csv\", inferSchema=True, header=True)"
   ]
  },
  {
   "cell_type": "code",
   "execution_count": 29,
   "metadata": {},
   "outputs": [],
   "source": [
    "#Convert column types to integers and timestamps\n",
    "from pyspark.sql.types import IntegerType\n",
    "df = df.withColumn(\"ups\", df[\"ups\"].cast(IntegerType())) \n",
    "df = df.withColumn(\"downs\", df[\"downs\"].cast(IntegerType()))\n",
    "df = df.withColumn(\"gilded\", df[\"gilded\"].cast(IntegerType()))\n",
    "df = df.withColumn(\"score\", df[\"score\"].cast(IntegerType()))\n",
    "df = df.withColumn(\"retrieved_on\", df[\"retrieved_on\"].cast(IntegerType()))\n",
    "df = df.withColumn(\"controversiality\", df[\"controversiality\"].cast(IntegerType()))\n",
    "df = df.withColumn('created_utc',df[\"created_utc\"].cast(IntegerType()))\n",
    "df = df.withColumn('retrieved_on',df[\"retrieved_on\"].cast(IntegerType()))\n",
    "\n",
    "\n",
    "df = df.withColumn('created_utc',to_timestamp(df[\"created_utc\"]))\n",
    "df = df.withColumn('retrieved_on',to_timestamp(df[\"retrieved_on\"]))"
   ]
  },
  {
   "cell_type": "code",
   "execution_count": 30,
   "metadata": {},
   "outputs": [
    {
     "name": "stdout",
     "output_type": "stream",
     "text": [
      "root\n",
      " |-- archived: boolean (nullable = true)\n",
      " |-- author: string (nullable = true)\n",
      " |-- author_flair_css_class: string (nullable = true)\n",
      " |-- author_flair_text: string (nullable = true)\n",
      " |-- body: string (nullable = true)\n",
      " |-- controversiality: integer (nullable = true)\n",
      " |-- created_utc: timestamp (nullable = true)\n",
      " |-- distinguished: string (nullable = true)\n",
      " |-- downs: integer (nullable = true)\n",
      " |-- gilded: integer (nullable = true)\n",
      " |-- id: string (nullable = true)\n",
      " |-- link_id: string (nullable = true)\n",
      " |-- name: string (nullable = true)\n",
      " |-- parent_id: string (nullable = true)\n",
      " |-- retrieved_on: timestamp (nullable = true)\n",
      " |-- score: integer (nullable = true)\n",
      " |-- score_hidden: boolean (nullable = true)\n",
      " |-- subreddit: string (nullable = true)\n",
      " |-- subreddit_id: string (nullable = true)\n",
      " |-- ups: integer (nullable = true)\n",
      "\n"
     ]
    }
   ],
   "source": [
    "df.printSchema()"
   ]
  },
  {
   "cell_type": "code",
   "execution_count": 31,
   "metadata": {},
   "outputs": [],
   "source": [
    "#Rename a couple user columns to not duplicate with comments dataframe\n",
    "users = users.select(\"id\", col(\"name\").alias(\"username\"),\n",
    "                     col(\"created_utc\").alias(\"acct_creation\"),\"updated_on\",\"comment_karma\",\"link_karma\")"
   ]
  },
  {
   "cell_type": "code",
   "execution_count": 32,
   "metadata": {},
   "outputs": [],
   "source": [
    "#Convert account creation and updated on to timestampps\n",
    "users = users.withColumn('acct_creation',to_timestamp(users[\"acct_creation\"]))\n",
    "users = users.withColumn('updated_on',to_timestamp(users[\"updated_on\"]))"
   ]
  },
  {
   "cell_type": "code",
   "execution_count": 33,
   "metadata": {},
   "outputs": [
    {
     "name": "stdout",
     "output_type": "stream",
     "text": [
      "root\n",
      " |-- id: long (nullable = true)\n",
      " |-- username: string (nullable = true)\n",
      " |-- acct_creation: timestamp (nullable = true)\n",
      " |-- updated_on: timestamp (nullable = true)\n",
      " |-- comment_karma: integer (nullable = true)\n",
      " |-- link_karma: integer (nullable = true)\n",
      "\n"
     ]
    }
   ],
   "source": [
    "users.printSchema()"
   ]
  },
  {
   "cell_type": "code",
   "execution_count": 52,
   "metadata": {},
   "outputs": [
    {
     "name": "stdout",
     "output_type": "stream",
     "text": [
      "+---+--------+-------------+----------+-------------+----------+\n",
      "| id|username|acct_creation|updated_on|comment_karma|link_karma|\n",
      "+---+--------+-------------+----------+-------------+----------+\n",
      "+---+--------+-------------+----------+-------------+----------+\n",
      "\n"
     ]
    }
   ],
   "source": [
    "#Checking to see if one of the Russian campaigns is in the users list\n",
    "users.filter(users.username == 'gregoratior').show()\n",
    "\n",
    "#I tested out 3 different usernames and none of them showed up. I will have to run the scraper which pulls specific user info"
   ]
  },
  {
   "cell_type": "code",
   "execution_count": 53,
   "metadata": {},
   "outputs": [
    {
     "name": "stdout",
     "output_type": "stream",
     "text": [
      "+--------+------+----------------------+-----------------+----+----------------+-----------+-------------+-----+------+---+-------+----+---------+------------+-----+------------+---------+------------+---+\n",
      "|archived|author|author_flair_css_class|author_flair_text|body|controversiality|created_utc|distinguished|downs|gilded| id|link_id|name|parent_id|retrieved_on|score|score_hidden|subreddit|subreddit_id|ups|\n",
      "+--------+------+----------------------+-----------------+----+----------------+-----------+-------------+-----+------+---+-------+----+---------+------------+-----+------------+---------+------------+---+\n",
      "+--------+------+----------------------+-----------------+----+----------------+-----------+-------------+-----+------+---+-------+----+---------+------------+-----+------------+---------+------------+---+\n",
      "\n"
     ]
    }
   ],
   "source": [
    "#Checking to see if one of the Russian comments show up in the comments.\n",
    "df.filter(df.author == 'gregoratior').show()\n",
    "\n",
    "#There are 50 other comments files so hopefully their comments show up in one of the other ones."
   ]
  },
  {
   "cell_type": "code",
   "execution_count": 54,
   "metadata": {},
   "outputs": [],
   "source": [
    "#Combining data frames\n",
    "df_combined = df.join(users, df.author == users.username, 'left')"
   ]
  },
  {
   "cell_type": "code",
   "execution_count": 46,
   "metadata": {},
   "outputs": [
    {
     "name": "stdout",
     "output_type": "stream",
     "text": [
      "+-------------+--------------------+----+-----+-------------------+-------------------+-------------+\n",
      "|       author|                body| ups|downs|        created_utc|      acct_creation|     username|\n",
      "+-------------+--------------------+----+-----+-------------------+-------------------+-------------+\n",
      "|  sparebutter|we as a workforce...|null| null|2019-01-15 08:04:25|               null|         null|\n",
      "|Dux_Ignobilis|I say this as som...|null| null|2016-11-21 09:18:18|2015-01-18 22:17:40|Dux_Ignobilis|\n",
      "|  drpinkcream|Those who can’t f...|null| null|2017-07-27 16:27:06|2011-05-01 07:15:05|  drpinkcream|\n",
      "|    [deleted]|           [removed]|null| null|2018-04-27 08:04:00|               null|         null|\n",
      "|    [deleted]|           [removed]|null| null|2018-08-15 09:23:28|               null|         null|\n",
      "+-------------+--------------------+----+-----+-------------------+-------------------+-------------+\n",
      "only showing top 5 rows\n",
      "\n"
     ]
    }
   ],
   "source": [
    "#show sample combined dataframe\n",
    "df_combined.select(df.author,df.body,df.ups,df.downs,df.created_utc,users.acct_creation,users.username).sample(False,.00001,3).show(5)"
   ]
  },
  {
   "cell_type": "code",
   "execution_count": 47,
   "metadata": {},
   "outputs": [
    {
     "data": {
      "text/plain": [
       "5158836"
      ]
     },
     "execution_count": 47,
     "metadata": {},
     "output_type": "execute_result"
    }
   ],
   "source": [
    "#Number of usernames matched \n",
    "df_combined.filter(users.username.isNotNull()).count()"
   ]
  },
  {
   "cell_type": "code",
   "execution_count": 56,
   "metadata": {},
   "outputs": [
    {
     "data": {
      "text/plain": [
       "6420881"
      ]
     },
     "execution_count": 56,
     "metadata": {},
     "output_type": "execute_result"
    }
   ],
   "source": [
    "#number of comments in original df\n",
    "df.count()"
   ]
  },
  {
   "cell_type": "code",
   "execution_count": 48,
   "metadata": {},
   "outputs": [
    {
     "data": {
      "text/plain": [
       "6420881"
      ]
     },
     "execution_count": 48,
     "metadata": {},
     "output_type": "execute_result"
    }
   ],
   "source": [
    "#number of comments in combined df\n",
    "df_combined.count()"
   ]
  }
 ],
 "metadata": {
  "kernelspec": {
   "display_name": "pySpark",
   "language": "python",
   "name": "pyspark"
  },
  "language_info": {
   "codemirror_mode": {
    "name": "ipython",
    "version": 3
   },
   "file_extension": ".py",
   "mimetype": "text/x-python",
   "name": "python",
   "nbconvert_exporter": "python",
   "pygments_lexer": "ipython3",
   "version": "3.6.8"
  }
 },
 "nbformat": 4,
 "nbformat_minor": 2
}
